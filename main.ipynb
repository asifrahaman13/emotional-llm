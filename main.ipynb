{
 "cells": [
  {
   "cell_type": "markdown",
   "metadata": {},
   "source": [
    "1. Sample chatbot response"
   ]
  },
  {
   "cell_type": "code",
   "execution_count": null,
   "metadata": {},
   "outputs": [],
   "source": [
    "from typing import List, Dict, Any"
   ]
  },
  {
   "cell_type": "code",
   "execution_count": 29,
   "metadata": {},
   "outputs": [
    {
     "name": "stderr",
     "output_type": "stream",
     "text": [
      "2025-03-23 21:53:51,090 [INFO] HTTP Request: POST http://127.0.0.1:11434/api/chat \"HTTP/1.1 200 OK\"\n"
     ]
    },
    {
     "name": "stdout",
     "output_type": "stream",
     "text": [
      "The LLM response is: Of course, I would be happy to help you to fill the void. Your loss is a very personal situation and it's understandable how you may feel alone at that moment. Here are some suggestions to help you cope:\n",
      "\n",
      "1. Take time out for yourself - go for a walk, read a book, or spend some quality time with loved ones. It will give your mind a break from the day-to-day routine and help you recharge.\n",
      "\n",
      "2. Consider making a memorial – take some photos of your dog and frame them together. You could also make a collage or create a scrapbook to remember him by.\n",
      "\n",
      "3. Practice mindfulness - meditation, deep breathing exercises, or yoga can help you to relax and slow down. It's also a great way to focus on the present moment and let go of your negative thoughts.\n",
      "\n",
      "4. Reach out for support – talk to friends or family members who have dogs or know someone else who does. You could even consider joining an online support group like Facebook groups, Instagram or Reddit groups dedicated to dog-owners.\n",
      "\n",
      "5. Consider therapy – seeking professional help can be beneficial if you're feeling overwhelmed or depressed. There are several options for therapy available in your area. It could help you process your emotions and find a sense of peace.\n",
      "\n",
      "6. Create a new routine - look for ways to create a new routine that includes your favorite activities such as going to the park, taking walks, or exploring new places. \n",
      "\n",
      "I hope these suggestions help you to feel better and cope with your loss. Remember, it's normal to feel sad or upset at first. But with time and patience, you will find ways to make life more bearable for yourself.\n"
     ]
    }
   ],
   "source": [
    "from ollama import chat\n",
    "from ollama import ChatResponse\n",
    "import logging\n",
    "\n",
    "logging.basicConfig(\n",
    "    level=logging.INFO,\n",
    "    format=\"%(asctime)s [%(levelname)s] %(message)s\",\n",
    ")\n",
    "\n",
    "MODEL_NAME: str = \"tinyllama\"\n",
    "\n",
    "response: ChatResponse = chat(\n",
    "    model=MODEL_NAME,\n",
    "    messages=[\n",
    "        {\n",
    "            \"role\": \"user\",\n",
    "            \"content\": \"I lost my dog a week ago. I am feeling void without him. Can you help me to fill the void?\",\n",
    "        },\n",
    "    ],\n",
    ")\n",
    "\n",
    "print(f\"The LLM response is: {response.message.content}\")"
   ]
  },
  {
   "cell_type": "code",
   "execution_count": null,
   "metadata": {},
   "outputs": [],
   "source": []
  },
  {
   "cell_type": "markdown",
   "metadata": {},
   "source": [
    "# Use DEMO rank ranking algorithms for documents."
   ]
  },
  {
   "cell_type": "code",
   "execution_count": null,
   "metadata": {},
   "outputs": [
    {
     "name": "stdout",
     "output_type": "stream",
     "text": [
      "Ranked Documents:\n",
      "Rank 1: Document ID 6 with score 0.4743\n",
      "Content: You deserve kindness and compassion.\n",
      "\n",
      "Rank 2: Document ID 9 with score 0.3922\n",
      "Content: You have the strength to overcome challenges.\n",
      "\n",
      "Rank 3: Document ID 10 with score 0.3922\n",
      "Content: Focus on what you can control and let go of the rest.\n",
      "\n",
      "Rank 4: Document ID 2 with score 0.3333\n",
      "Content: It's okay to feel overwhelmed sometimes.\n",
      "\n",
      "Rank 5: Document ID 4 with score 0.3333\n",
      "Content: You are not alone in this journey.\n",
      "\n",
      "Rank 6: Document ID 3 with score 0.3244\n",
      "Content: Take a deep breath and focus on the present moment.\n",
      "\n",
      "Rank 7: Document ID 1 with score 0.2887\n",
      "Content: You are stronger than you think.\n",
      "\n",
      "Rank 8: Document ID 5 with score 0.0000\n",
      "Content: Every small step forward is progress.\n",
      "\n",
      "Rank 9: Document ID 7 with score 0.0000\n",
      "Content: It's okay to ask for help when you need it.\n",
      "\n",
      "Rank 10: Document ID 8 with score 0.0000\n",
      "Content: Your feelings are valid and important.\n",
      "\n"
     ]
    }
   ],
   "source": [
    "from sklearn.feature_extraction.text import CountVectorizer\n",
    "from sklearn.metrics.pairwise import cosine_similarity\n",
    "import json\n",
    "\n",
    "\n",
    "class DocumentRanker:\n",
    "    def __init__(self, documents):\n",
    "        \"\"\"\n",
    "        Initialize the DocumentRanker with a list of documents.\n",
    "        Each document should be a dictionary with 'id' and 'content' keys.\n",
    "        \"\"\"\n",
    "        self.documents = documents\n",
    "        self.vectorizer = CountVectorizer()\n",
    "        self.doc_term_matrix = self.vectorizer.fit_transform(\n",
    "            [doc[\"problem\"] for doc in documents]\n",
    "        )\n",
    "\n",
    "    def rank_documents(self, query):\n",
    "        \"\"\"\n",
    "        Rank documents based on their relevance to the query using cosine similarity.\n",
    "        :param query: The query string to compare against the documents.\n",
    "        :return: A list of ranked documents with their scores.\n",
    "        \"\"\"\n",
    "        query_vector = self.vectorizer.transform([query])\n",
    "        scores = cosine_similarity(query_vector, self.doc_term_matrix).flatten()\n",
    "        ranked_documents = sorted(\n",
    "            zip(self.documents, scores), key=lambda x: x[1], reverse=True\n",
    "        )\n",
    "        return ranked_documents\n",
    "\n",
    "    def display_ranked_documents(self, ranked_documents):\n",
    "        \"\"\"\n",
    "        Display the ranked documents in a readable format.\n",
    "        :param ranked_documents: A list of tuples containing documents and their scores.\n",
    "        \"\"\"\n",
    "        print(\"Ranked Documents:\")\n",
    "        for rank, (doc, score) in enumerate(ranked_documents, start=1):\n",
    "            print(f\"Rank {rank}: Document ID {doc['id']} with score {score:.4f}\")\n",
    "            print(f\"Content: {doc['content']}\")\n",
    "            print()\n",
    "\n",
    "\n",
    "# Example usage\n",
    "if __name__ == \"__main__\":\n",
    "    documents: List[Dict[str, Any]] = []\n",
    "\n",
    "    with open(\"files/docs.json\", \"r\") as json_file:\n",
    "        data = json.load(json_file)\n",
    "        for doc in data:\n",
    "            documents.append(doc)\n",
    "\n",
    "    query = \"I am feeling lost and overwhelmed. How can I find my way back?\"\n",
    "\n",
    "    ranker = DocumentRanker(documents)\n",
    "    ranked_docs = ranker.rank_documents(query)\n",
    "    ranker.display_ranked_documents(ranked_docs)"
   ]
  }
 ],
 "metadata": {
  "kernelspec": {
   "display_name": ".venv",
   "language": "python",
   "name": "python3"
  },
  "language_info": {
   "codemirror_mode": {
    "name": "ipython",
    "version": 3
   },
   "file_extension": ".py",
   "mimetype": "text/x-python",
   "name": "python",
   "nbconvert_exporter": "python",
   "pygments_lexer": "ipython3",
   "version": "3.12.3"
  }
 },
 "nbformat": 4,
 "nbformat_minor": 2
}
